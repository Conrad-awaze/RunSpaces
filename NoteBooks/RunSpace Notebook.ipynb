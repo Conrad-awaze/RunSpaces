{
 "cells": [
  {
   "cell_type": "code",
   "execution_count": 1,
   "metadata": {
    "dotnet_interactive": {
     "language": "pwsh"
    },
    "polyglot_notebook": {
     "kernelName": "pwsh"
    }
   },
   "outputs": [
    {
     "name": "stdout",
     "output_type": "stream",
     "text": [
      "\n",
      "\u001b[32;1m Id Name            ComputerName    Type          State         Availability\u001b[0m\n",
      "\u001b[32;1m -- ----            ------------    ----          -----         ------------\u001b[0m\n",
      "  1 Runspace1       localhost       Local         Opened        Busy\n",
      "\n"
     ]
    }
   ],
   "source": [
    "Get-Runspace"
   ]
  },
  {
   "cell_type": "code",
   "execution_count": 2,
   "metadata": {
    "dotnet_interactive": {
     "language": "pwsh"
    },
    "polyglot_notebook": {
     "kernelName": "pwsh"
    }
   },
   "outputs": [
    {
     "name": "stdout",
     "output_type": "stream",
     "text": [
      "\n",
      "\u001b[32;1m Id Name            ComputerName    Type          State         Availability\u001b[0m\n",
      "\u001b[32;1m -- ----            ------------    ----          -----         ------------\u001b[0m\n",
      "  1 Runspace1       localhost       Local         Opened        Busy\n",
      "  2 Runspace2       localhost       Local         BeforeOpen    None\n",
      "\n"
     ]
    }
   ],
   "source": [
    "$RunSpace   = [runspacefactory]::CreateRunspace()\n",
    "\n",
    "Get-Runspace"
   ]
  },
  {
   "cell_type": "code",
   "execution_count": 3,
   "metadata": {
    "dotnet_interactive": {
     "language": "pwsh"
    },
    "polyglot_notebook": {
     "kernelName": "pwsh"
    }
   },
   "outputs": [
    {
     "name": "stdout",
     "output_type": "stream",
     "text": [
      "\n",
      "\u001b[32;1m Id Name            ComputerName    Type          State         Availability\u001b[0m\n",
      "\u001b[32;1m -- ----            ------------    ----          -----         ------------\u001b[0m\n",
      "  1 Runspace1       localhost       Local         Opened        Busy\n",
      "  2 NewTestRunSpace localhost       Local         BeforeOpen    None\n",
      "\n"
     ]
    }
   ],
   "source": [
    "$RunSpace.Name  = \"NewTestRunSpace\"\n",
    "\n",
    "Get-Runspace  "
   ]
  },
  {
   "attachments": {
    "image.png": {
     "image/png": "[encoded data removed]"
    }
   },
   "cell_type": "markdown",
   "metadata": {},
   "source": [
    "![image.png](attachment:image.png)"
   ]
  },
  {
   "cell_type": "code",
   "execution_count": 4,
   "metadata": {
    "dotnet_interactive": {
     "language": "pwsh"
    },
    "polyglot_notebook": {
     "kernelName": "pwsh"
    }
   },
   "outputs": [
    {
     "name": "stdout",
     "output_type": "stream",
     "text": [
      "\n",
      "\u001b[32;1m Id Name            ComputerName    Type          State         Availability\u001b[0m\n",
      "\u001b[32;1m -- ----            ------------    ----          -----         ------------\u001b[0m\n",
      "  1 Runspace1       localhost       Local         Opened        Busy\n",
      "  2 NewTestRunSpace localhost       Local         Opened        Available\n",
      "\n"
     ]
    }
   ],
   "source": [
    "$RunSpace.Open()\n",
    "\n",
    "Get-Runspace"
   ]
  },
  {
   "attachments": {
    "image.png": {
     "image/png": "[encoded data removed]"
    }
   },
   "cell_type": "markdown",
   "metadata": {},
   "source": [
    "![image.png](attachment:image.png)"
   ]
  },
  {
   "cell_type": "code",
   "execution_count": 5,
   "metadata": {
    "dotnet_interactive": {
     "language": "pwsh"
    },
    "polyglot_notebook": {
     "kernelName": "pwsh"
    }
   },
   "outputs": [
    {
     "name": "stdout",
     "output_type": "stream",
     "text": [
      "\n",
      "\u001b[32;1mCommands            : \u001b[0mSystem.Management.Automation.PSCommand\n",
      "\u001b[32;1mStreams             : \u001b[0mSystem.Management.Automation.PSDataStreams\n",
      "\u001b[32;1mInstanceId          : \u001b[0m0ebe02ad-5458-46c2-a889-4a0fa9e3233b\n",
      "\u001b[32;1mInvocationStateInfo : \u001b[0mSystem.Management.Automation.PSInvocationStateInfo\n",
      "\u001b[32;1mIsNested            : \u001b[0mFalse\n",
      "\u001b[32;1mHadErrors           : \u001b[0mFalse\n",
      "\u001b[32;1mRunspace            : \u001b[0mSystem.Management.Automation.Runspaces.LocalRunspace\n",
      "\u001b[32;1mRunspacePool        : \u001b[0m\n",
      "\u001b[32;1mIsRunspaceOwner     : \u001b[0mTrue\n",
      "\u001b[32;1mHistoryString       : \u001b[0m\n",
      "\n",
      "\n"
     ]
    }
   ],
   "source": [
    "$PowerShellInstance  = [powershell]::Create()\n",
    "$PowerShellInstance"
   ]
  },
  {
   "cell_type": "code",
   "execution_count": 6,
   "metadata": {
    "dotnet_interactive": {
     "language": "pwsh"
    },
    "polyglot_notebook": {
     "kernelName": "pwsh"
    }
   },
   "outputs": [
    {
     "name": "stdout",
     "output_type": "stream",
     "text": [
      "\n",
      "\u001b[32;1m Id Name            ComputerName    Type          State         Availability\u001b[0m\n",
      "\u001b[32;1m -- ----            ------------    ----          -----         ------------\u001b[0m\n",
      "  1 Runspace1       localhost       Local         Opened        Busy\n",
      "  2 NewTestRunSpace localhost       Local         Opened        Available\n",
      "\n"
     ]
    }
   ],
   "source": [
    "$PowerShellInstance.Runspace   = $RunSpace\n",
    "\n",
    "Get-Runspace"
   ]
  },
  {
   "cell_type": "code",
   "execution_count": 7,
   "metadata": {
    "dotnet_interactive": {
     "language": "pwsh"
    },
    "polyglot_notebook": {
     "kernelName": "pwsh"
    }
   },
   "outputs": [
    {
     "name": "stdout",
     "output_type": "stream",
     "text": [
      "\n",
      "\u001b[32;1mCommands            : \u001b[0mSystem.Management.Automation.PSCommand\n",
      "\u001b[32;1mStreams             : \u001b[0mSystem.Management.Automation.PSDataStreams\n",
      "\u001b[32;1mInstanceId          : \u001b[0m0ebe02ad-5458-46c2-a889-4a0fa9e3233b\n",
      "\u001b[32;1mInvocationStateInfo : \u001b[0mSystem.Management.Automation.PSInvocationStateInfo\n",
      "\u001b[32;1mIsNested            : \u001b[0mFalse\n",
      "\u001b[32;1mHadErrors           : \u001b[0mFalse\n",
      "\u001b[32;1mRunspace            : \u001b[0mSystem.Management.Automation.Runspaces.LocalRunspace\n",
      "\u001b[32;1mRunspacePool        : \u001b[0m\n",
      "\u001b[32;1mIsRunspaceOwner     : \u001b[0mFalse\n",
      "\u001b[32;1mHistoryString       : \u001b[0m\n",
      "\n",
      "\n"
     ]
    }
   ],
   "source": [
    "$ScriptBlock = {\n",
    "\n",
    "    Write-Output \"Script block output from the RunSpace\"\n",
    "}\n",
    "\n",
    "$PowerShellInstance.AddScript($ScriptBlock)"
   ]
  },
  {
   "cell_type": "code",
   "execution_count": 8,
   "metadata": {
    "dotnet_interactive": {
     "language": "pwsh"
    },
    "polyglot_notebook": {
     "kernelName": "pwsh"
    }
   },
   "outputs": [
    {
     "name": "stdout",
     "output_type": "stream",
     "text": [
      "\n",
      "\u001b[32;1mId IsCompleted Status\u001b[0m\n",
      "\u001b[32;1m-- ----------- ------\u001b[0m\n",
      "1  False       WaitingForActivation\n",
      "\n"
     ]
    }
   ],
   "source": [
    "$Script = $PowerShellInstance.InvokeAsync()\n",
    "\n",
    "$Script"
   ]
  },
  {
   "cell_type": "code",
   "execution_count": 9,
   "metadata": {
    "dotnet_interactive": {
     "language": "pwsh"
    },
    "polyglot_notebook": {
     "kernelName": "pwsh"
    }
   },
   "outputs": [
    {
     "name": "stdout",
     "output_type": "stream",
     "text": [
      "Script block output from the RunSpace\n"
     ]
    }
   ],
   "source": [
    "$Script.Result"
   ]
  },
  {
   "cell_type": "code",
   "execution_count": 10,
   "metadata": {
    "dotnet_interactive": {
     "language": "pwsh"
    },
    "polyglot_notebook": {
     "kernelName": "pwsh"
    }
   },
   "outputs": [
    {
     "name": "stdout",
     "output_type": "stream",
     "text": [
      "\n",
      "\u001b[32;1mId IsCompleted Status\u001b[0m\n",
      "\u001b[32;1m-- ----------- ------\u001b[0m\n",
      "1  True        RanToCompletion\n",
      "\n"
     ]
    }
   ],
   "source": [
    "$Script"
   ]
  },
  {
   "cell_type": "code",
   "execution_count": 11,
   "metadata": {
    "dotnet_interactive": {
     "language": "pwsh"
    },
    "polyglot_notebook": {
     "kernelName": "pwsh"
    }
   },
   "outputs": [
    {
     "name": "stdout",
     "output_type": "stream",
     "text": [
      "\n",
      "\u001b[32;1m Id Name            ComputerName    Type          State         Availability\u001b[0m\n",
      "\u001b[32;1m -- ----            ------------    ----          -----         ------------\u001b[0m\n",
      "  1 Runspace1       localhost       Local         Opened        Busy\n",
      "  2 NewTestRunSpace localhost       Local         Closed        None\n",
      "\n"
     ]
    }
   ],
   "source": [
    "$RunSpace.Close()\n",
    "\n",
    "Get-Runspace"
   ]
  },
  {
   "cell_type": "code",
   "execution_count": 12,
   "metadata": {
    "dotnet_interactive": {
     "language": "pwsh"
    },
    "polyglot_notebook": {
     "kernelName": "pwsh"
    }
   },
   "outputs": [
    {
     "name": "stdout",
     "output_type": "stream",
     "text": [
      "\n",
      "\u001b[32;1m Id Name            ComputerName    Type          State         Availability\u001b[0m\n",
      "\u001b[32;1m -- ----            ------------    ----          -----         ------------\u001b[0m\n",
      "  1 Runspace1       localhost       Local         Opened        Busy\n",
      "\n"
     ]
    }
   ],
   "source": [
    "$RunSpace.Dispose()\n",
    "\n",
    "Get-Runspace"
   ]
  },
  {
   "cell_type": "code",
   "execution_count": null,
   "metadata": {
    "dotnet_interactive": {
     "language": "pwsh"
    },
    "polyglot_notebook": {
     "kernelName": "pwsh"
    }
   },
   "outputs": [],
   "source": [
    "# $PowerShellCheck            = [powershell]::Create()\n",
    "# $PowerShellCheck.Runspace   = $RunSpace\n",
    "    \n",
    "\n",
    "# $NewRunSpace = Get-Runspace | Where-Object {$_.Name -eq $RunspaceRefreshMonitor}"
   ]
  }
 ],
 "metadata": {
  "kernelspec": {
   "display_name": ".NET (PowerShell)",
   "language": "PowerShell",
   "name": ".net-pwsh"
  },
  "language_info": {
   "name": "polyglot-notebook"
  },
  "polyglot_notebook": {
   "kernelInfo": {
    "defaultKernelName": "pwsh",
    "items": [
     {
      "aliases": [],
      "languageName": "pwsh",
      "name": "pwsh"
     }
    ]
   }
  }
 },
 "nbformat": 4,
 "nbformat_minor": 2
}
