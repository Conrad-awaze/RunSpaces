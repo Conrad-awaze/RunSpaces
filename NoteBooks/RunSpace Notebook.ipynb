{
 "cells": [
  {
   "cell_type": "code",
   "execution_count": 1,
   "metadata": {
    "dotnet_interactive": {
     "language": "pwsh"
    },
    "polyglot_notebook": {
     "kernelName": "pwsh"
    }
   },
   "outputs": [
    {
     "name": "stdout",
     "output_type": "stream",
     "text": [
      "\n",
      "\u001b[32;1m Id Name            ComputerName    Type          State         Availability\u001b[0m\n",
      "\u001b[32;1m -- ----            ------------    ----          -----         ------------\u001b[0m\n",
      "  1 Runspace1       localhost       Local         Opened        Busy\n",
      "\n"
     ]
    }
   ],
   "source": [
    "Get-Runspace"
   ]
  },
  {
   "cell_type": "code",
   "execution_count": 2,
   "metadata": {
    "dotnet_interactive": {
     "language": "pwsh"
    },
    "polyglot_notebook": {
     "kernelName": "pwsh"
    }
   },
   "outputs": [
    {
     "name": "stdout",
     "output_type": "stream",
     "text": [
      "\n",
      "\u001b[32;1m Id Name            ComputerName    Type          State         Availability\u001b[0m\n",
      "\u001b[32;1m -- ----            ------------    ----          -----         ------------\u001b[0m\n",
      "  1 Runspace1       localhost       Local         Opened        Busy\n",
      "  2 Runspace2       localhost       Local         BeforeOpen    None\n",
      "\n"
     ]
    }
   ],
   "source": [
    "$RunSpace   = [runspacefactory]::CreateRunspace()\n",
    "\n",
    "Get-Runspace"
   ]
  },
  {
   "cell_type": "code",
   "execution_count": 4,
   "metadata": {
    "dotnet_interactive": {
     "language": "pwsh"
    },
    "polyglot_notebook": {
     "kernelName": "pwsh"
    }
   },
   "outputs": [
    {
     "name": "stdout",
     "output_type": "stream",
     "text": [
      "\n",
      "\u001b[32;1m Id Name            ComputerName    Type          State         Availability\u001b[0m\n",
      "\u001b[32;1m -- ----            ------------    ----          -----         ------------\u001b[0m\n",
      "  1 Runspace1       localhost       Local         Opened        Busy\n",
      "  2 NewTestRunSpace localhost       Local         BeforeOpen    None\n",
      "\n"
     ]
    }
   ],
   "source": [
    "$RunSpace.Name  = \"NewTestRunSpace\"\n",
    "\n",
    "Get-Runspace  "
   ]
  },
  {
   "attachments": {
    "image.png": {
     "image/png": "[encoded data removed]"
    }
   },
   "cell_type": "markdown",
   "metadata": {},
   "source": [
    "![image.png](attachment:image.png)"
   ]
  },
  {
   "cell_type": "code",
   "execution_count": 5,
   "metadata": {
    "dotnet_interactive": {
     "language": "pwsh"
    },
    "polyglot_notebook": {
     "kernelName": "pwsh"
    }
   },
   "outputs": [
    {
     "name": "stdout",
     "output_type": "stream",
     "text": [
      "\n",
      "\u001b[32;1m Id Name            ComputerName    Type          State         Availability\u001b[0m\n",
      "\u001b[32;1m -- ----            ------------    ----          -----         ------------\u001b[0m\n",
      "  1 Runspace1       localhost       Local         Opened        Busy\n",
      "  2 NewTestRunSpace localhost       Local         Opened        Available\n",
      "\n"
     ]
    }
   ],
   "source": [
    "$RunSpace.Open()\n",
    "\n",
    "Get-Runspace"
   ]
  },
  {
   "cell_type": "code",
   "execution_count": 7,
   "metadata": {
    "dotnet_interactive": {
     "language": "pwsh"
    },
    "polyglot_notebook": {
     "kernelName": "pwsh"
    }
   },
   "outputs": [
    {
     "name": "stdout",
     "output_type": "stream",
     "text": [
      "\n",
      "\u001b[32;1mCommands            : \u001b[0mSystem.Management.Automation.PSCommand\n",
      "\u001b[32;1mStreams             : \u001b[0mSystem.Management.Automation.PSDataStreams\n",
      "\u001b[32;1mInstanceId          : \u001b[0mb0b35b58-852d-4c47-8f16-ab1bc44c7055\n",
      "\u001b[32;1mInvocationStateInfo : \u001b[0mSystem.Management.Automation.PSInvocationStateInfo\n",
      "\u001b[32;1mIsNested            : \u001b[0mFalse\n",
      "\u001b[32;1mHadErrors           : \u001b[0mFalse\n",
      "\u001b[32;1mRunspace            : \u001b[0mSystem.Management.Automation.Runspaces.LocalRunspace\n",
      "\u001b[32;1mRunspacePool        : \u001b[0m\n",
      "\u001b[32;1mIsRunspaceOwner     : \u001b[0mTrue\n",
      "\u001b[32;1mHistoryString       : \u001b[0m\n",
      "\n",
      "\n"
     ]
    }
   ],
   "source": [
    "$PowerShellInstance  = [powershell]::Create()\n",
    "$PowerShellInstance"
   ]
  },
  {
   "cell_type": "code",
   "execution_count": 8,
   "metadata": {
    "dotnet_interactive": {
     "language": "pwsh"
    },
    "polyglot_notebook": {
     "kernelName": "pwsh"
    }
   },
   "outputs": [
    {
     "name": "stdout",
     "output_type": "stream",
     "text": [
      "\n",
      "\u001b[32;1m Id Name            ComputerName    Type          State         Availability\u001b[0m\n",
      "\u001b[32;1m -- ----            ------------    ----          -----         ------------\u001b[0m\n",
      "  1 Runspace1       localhost       Local         Opened        Busy\n",
      "  2 NewTestRunSpace localhost       Local         Opened        Available\n",
      "\n"
     ]
    }
   ],
   "source": [
    "$PowerShellInstance.Runspace   = $RunSpace\n",
    "\n",
    "Get-Runspace"
   ]
  },
  {
   "cell_type": "code",
   "execution_count": 13,
   "metadata": {
    "dotnet_interactive": {
     "language": "pwsh"
    },
    "polyglot_notebook": {
     "kernelName": "pwsh"
    }
   },
   "outputs": [
    {
     "name": "stdout",
     "output_type": "stream",
     "text": [
      "\n",
      "   TypeName: System.Management.Automation.PowerShell\n",
      "\n",
      "\u001b[32;1mName                   MemberType Definition\u001b[0m\n",
      "\u001b[32;1m----                   ---------- ----------\u001b[0m\n",
      "InvocationStateChanged Event      System.EventHandler`1[System.Management.Automation.PSInvocationS…\n",
      "AddArgument            Method     powershell AddArgument(System.Object value)\n",
      "AddCommand             Method     powershell AddCommand(string cmdlet), powershell AddCommand(stri…\n",
      "AddParameter           Method     powershell AddParameter(string parameterName, System.Object valu…\n",
      "AddParameters          Method     powershell AddParameters(System.Collections.IList parameters), p…\n",
      "AddScript              Method     powershell AddScript(string script), powershell AddScript(string…\n",
      "AddStatement           Method     powershell AddStatement()\n",
      "BeginInvoke            Method     System.IAsyncResult BeginInvoke(), System.IAsyncResult BeginInvo…\n",
      "BeginStop              Method     System.IAsyncResult BeginStop(System.AsyncCallback callback, Sys…\n",
      "Connect                Method     System.Collections.ObjectModel.Collection[psobject] Connect()\n",
      "ConnectAsync           Method     System.IAsyncResult ConnectAsync(), System.IAsyncResult ConnectA…\n",
      "CreateNestedPowerShell Method     powershell CreateNestedPowerShell()\n",
      "Dispose                Method     void Dispose(), void IDisposable.Dispose()\n",
      "EndInvoke              Method     System.Management.Automation.PSDataCollection[psobject] EndInvok…\n",
      "EndStop                Method     void EndStop(System.IAsyncResult asyncResult)\n",
      "Equals                 Method     bool Equals(System.Object obj)\n",
      "GetHashCode            Method     int GetHashCode()\n",
      "GetSteppablePipeline   Method     System.Management.Automation.SteppablePipeline GetSteppablePipel…\n",
      "GetType                Method     type GetType()\n",
      "Invoke                 Method     System.Collections.ObjectModel.Collection[psobject] Invoke(), Sy…\n",
      "InvokeAsync            Method     System.Threading.Tasks.Task[System.Management.Automation.PSDataC…\n",
      "Stop                   Method     void Stop()\n",
      "StopAsync              Method     System.Threading.Tasks.Task StopAsync(System.AsyncCallback callb…\n",
      "ToString               Method     string ToString()\n",
      "Commands               Property   System.Management.Automation.PSCommand Commands {get;set;}\n",
      "HadErrors              Property   bool HadErrors {get;}\n",
      "HistoryString          Property   string HistoryString {get;set;}\n",
      "InstanceId             Property   guid InstanceId {get;}\n",
      "InvocationStateInfo    Property   System.Management.Automation.PSInvocationStateInfo InvocationSta…\n",
      "IsNested               Property   bool IsNested {get;}\n",
      "IsRunspaceOwner        Property   bool IsRunspaceOwner {get;}\n",
      "Runspace               Property   runspace Runspace {get;set;}\n",
      "RunspacePool           Property   System.Management.Automation.Runspaces.RunspacePool RunspacePool…\n",
      "Streams                Property   System.Management.Automation.PSDataStreams Streams {get;}\n",
      "\n"
     ]
    }
   ],
   "source": [
    "$PowerShellInstance | Get-Member"
   ]
  },
  {
   "cell_type": "code",
   "execution_count": null,
   "metadata": {
    "dotnet_interactive": {
     "language": "pwsh"
    },
    "polyglot_notebook": {
     "kernelName": "pwsh"
    }
   },
   "outputs": [],
   "source": []
  },
  {
   "cell_type": "code",
   "execution_count": null,
   "metadata": {
    "dotnet_interactive": {
     "language": "pwsh"
    },
    "polyglot_notebook": {
     "kernelName": "pwsh"
    }
   },
   "outputs": [],
   "source": []
  },
  {
   "cell_type": "code",
   "execution_count": 11,
   "metadata": {
    "dotnet_interactive": {
     "language": "pwsh"
    },
    "polyglot_notebook": {
     "kernelName": "pwsh"
    }
   },
   "outputs": [
    {
     "name": "stdout",
     "output_type": "stream",
     "text": [
      "\n",
      "\u001b[32;1m Id Name            ComputerName    Type          State         Availability\u001b[0m\n",
      "\u001b[32;1m -- ----            ------------    ----          -----         ------------\u001b[0m\n",
      "  1 Runspace1       localhost       Local         Opened        Busy\n",
      "  3 NewTestRunSpace localhost       Local         Closed        None\n",
      "\n"
     ]
    }
   ],
   "source": [
    "$RunSpace.Close()\n",
    "\n",
    "Get-Runspace"
   ]
  },
  {
   "cell_type": "code",
   "execution_count": 12,
   "metadata": {
    "dotnet_interactive": {
     "language": "pwsh"
    },
    "polyglot_notebook": {
     "kernelName": "pwsh"
    }
   },
   "outputs": [
    {
     "name": "stdout",
     "output_type": "stream",
     "text": [
      "\n",
      "\u001b[32;1m Id Name            ComputerName    Type          State         Availability\u001b[0m\n",
      "\u001b[32;1m -- ----            ------------    ----          -----         ------------\u001b[0m\n",
      "  1 Runspace1       localhost       Local         Opened        Busy\n",
      "\n"
     ]
    }
   ],
   "source": [
    "$RunSpace.Dispose()\n",
    "\n",
    "Get-Runspace"
   ]
  },
  {
   "cell_type": "code",
   "execution_count": null,
   "metadata": {
    "dotnet_interactive": {
     "language": "pwsh"
    },
    "polyglot_notebook": {
     "kernelName": "pwsh"
    }
   },
   "outputs": [],
   "source": [
    "# $PowerShellCheck            = [powershell]::Create()\n",
    "# $PowerShellCheck.Runspace   = $RunSpace\n",
    "    \n",
    "\n",
    "# $NewRunSpace = Get-Runspace | Where-Object {$_.Name -eq $RunspaceRefreshMonitor}"
   ]
  }
 ],
 "metadata": {
  "kernelspec": {
   "display_name": ".NET (PowerShell)",
   "language": "PowerShell",
   "name": ".net-pwsh"
  },
  "language_info": {
   "name": "polyglot-notebook"
  },
  "polyglot_notebook": {
   "kernelInfo": {
    "defaultKernelName": "pwsh",
    "items": [
     {
      "aliases": [],
      "languageName": "pwsh",
      "name": "pwsh"
     }
    ]
   }
  }
 },
 "nbformat": 4,
 "nbformat_minor": 2
}
