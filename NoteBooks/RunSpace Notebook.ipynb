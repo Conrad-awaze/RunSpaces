{
 "cells": [
  {
   "cell_type": "code",
   "execution_count": 7,
   "metadata": {
    "dotnet_interactive": {
     "language": "pwsh"
    },
    "polyglot_notebook": {
     "kernelName": "pwsh"
    }
   },
   "outputs": [
    {
     "name": "stdout",
     "output_type": "stream",
     "text": [
      "\n",
      "\u001b[32;1m Id Name            ComputerName    Type          State         Availability\u001b[0m\n",
      "\u001b[32;1m -- ----            ------------    ----          -----         ------------\u001b[0m\n",
      "  1 Runspace1       localhost       Local         Opened        Busy\n",
      "\n"
     ]
    }
   ],
   "source": [
    "Get-Runspace"
   ]
  },
  {
   "cell_type": "code",
   "execution_count": 8,
   "metadata": {
    "dotnet_interactive": {
     "language": "pwsh"
    },
    "polyglot_notebook": {
     "kernelName": "pwsh"
    }
   },
   "outputs": [
    {
     "name": "stdout",
     "output_type": "stream",
     "text": [
      "\n",
      "\u001b[32;1m Id Name            ComputerName    Type          State         Availability\u001b[0m\n",
      "\u001b[32;1m -- ----            ------------    ----          -----         ------------\u001b[0m\n",
      "  1 Runspace1       localhost       Local         Opened        Busy\n",
      "  3 Runspace3       localhost       Local         BeforeOpen    None\n",
      "\n"
     ]
    }
   ],
   "source": [
    "  $RunSpace   = [runspacefactory]::CreateRunspace()\n",
    "\n"
   ]
  },
  {
   "cell_type": "code",
   "execution_count": 9,
   "metadata": {
    "dotnet_interactive": {
     "language": "pwsh"
    },
    "polyglot_notebook": {
     "kernelName": "pwsh"
    }
   },
   "outputs": [
    {
     "name": "stdout",
     "output_type": "stream",
     "text": [
      "\n",
      "\u001b[32;1m Id Name            ComputerName    Type          State         Availability\u001b[0m\n",
      "\u001b[32;1m -- ----            ------------    ----          -----         ------------\u001b[0m\n",
      "  1 Runspace1       localhost       Local         Opened        Busy\n",
      "  3 NewTestRunSpace localhost       Local         BeforeOpen    None\n",
      "\n"
     ]
    }
   ],
   "source": [
    "$RunSpace.Name  = \"NewTestRunSpace\"\n",
    "\n",
    "Get-Runspace  "
   ]
  },
  {
   "attachments": {
    "image.png": {
     "image/png": "[encoded data removed]"
    }
   },
   "cell_type": "markdown",
   "metadata": {},
   "source": [
    "![image.png](attachment:image.png)"
   ]
  },
  {
   "cell_type": "code",
   "execution_count": 10,
   "metadata": {
    "dotnet_interactive": {
     "language": "pwsh"
    },
    "polyglot_notebook": {
     "kernelName": "pwsh"
    }
   },
   "outputs": [
    {
     "name": "stdout",
     "output_type": "stream",
     "text": [
      "\n",
      "\u001b[32;1m Id Name            ComputerName    Type          State         Availability\u001b[0m\n",
      "\u001b[32;1m -- ----            ------------    ----          -----         ------------\u001b[0m\n",
      "  1 Runspace1       localhost       Local         Opened        Busy\n",
      "  3 NewTestRunSpace localhost       Local         Opened        Available\n",
      "\n"
     ]
    }
   ],
   "source": [
    "$RunSpace.Open()\n",
    "\n",
    "Get-Runspace"
   ]
  },
  {
   "cell_type": "code",
   "execution_count": 11,
   "metadata": {
    "dotnet_interactive": {
     "language": "pwsh"
    },
    "polyglot_notebook": {
     "kernelName": "pwsh"
    }
   },
   "outputs": [
    {
     "name": "stdout",
     "output_type": "stream",
     "text": [
      "\n",
      "\u001b[32;1m Id Name            ComputerName    Type          State         Availability\u001b[0m\n",
      "\u001b[32;1m -- ----            ------------    ----          -----         ------------\u001b[0m\n",
      "  1 Runspace1       localhost       Local         Opened        Busy\n",
      "  3 NewTestRunSpace localhost       Local         Closed        None\n",
      "\n"
     ]
    }
   ],
   "source": [
    "$RunSpace.Close()\n",
    "\n",
    "Get-Runspace"
   ]
  },
  {
   "cell_type": "code",
   "execution_count": 12,
   "metadata": {
    "dotnet_interactive": {
     "language": "pwsh"
    },
    "polyglot_notebook": {
     "kernelName": "pwsh"
    }
   },
   "outputs": [
    {
     "name": "stdout",
     "output_type": "stream",
     "text": [
      "\n",
      "\u001b[32;1m Id Name            ComputerName    Type          State         Availability\u001b[0m\n",
      "\u001b[32;1m -- ----            ------------    ----          -----         ------------\u001b[0m\n",
      "  1 Runspace1       localhost       Local         Opened        Busy\n",
      "\n"
     ]
    }
   ],
   "source": [
    "$RunSpace.Dispose()\n",
    "\n",
    "Get-Runspace"
   ]
  },
  {
   "cell_type": "code",
   "execution_count": null,
   "metadata": {
    "dotnet_interactive": {
     "language": "pwsh"
    },
    "polyglot_notebook": {
     "kernelName": "pwsh"
    }
   },
   "outputs": [],
   "source": [
    "# $PowerShellCheck            = [powershell]::Create()\n",
    "# $PowerShellCheck.Runspace   = $RunSpace\n",
    "    \n",
    "\n",
    "# $NewRunSpace = Get-Runspace | Where-Object {$_.Name -eq $RunspaceRefreshMonitor}"
   ]
  }
 ],
 "metadata": {
  "kernelspec": {
   "display_name": ".NET (PowerShell)",
   "language": "PowerShell",
   "name": ".net-pwsh"
  },
  "language_info": {
   "name": "polyglot-notebook"
  },
  "polyglot_notebook": {
   "kernelInfo": {
    "defaultKernelName": "pwsh",
    "items": [
     {
      "aliases": [],
      "languageName": "pwsh",
      "name": "pwsh"
     }
    ]
   }
  }
 },
 "nbformat": 4,
 "nbformat_minor": 2
}
